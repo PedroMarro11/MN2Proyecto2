{
 "cells": [
  {
   "cell_type": "code",
   "execution_count": 1,
   "metadata": {},
   "outputs": [
    {
     "name": "stdout",
     "output_type": "stream",
     "text": [
      "[1. 1.]\n",
      "6.225714915907513e-28\n"
     ]
    }
   ],
   "source": [
    "import numpy as np\n",
    "import scipy as sp\n",
    "import matplotlib.pyplot as plt\n",
    "from RegionDeConfianza import dogleg_debug_exacto, dogleg_debug_approx, dogleg_approx, dogleg_exacto"
   ]
  },
  {
   "cell_type": "code",
   "execution_count": 2,
   "metadata": {},
   "outputs": [],
   "source": [
    "def rosenbrock(x): \n",
    "    return 100*(x[1] - x[0]**2)**2 + (1 - x[0])**2\n",
    "\n",
    "def rosenbrock_grad(x):\n",
    "    return np.array([400*x[0]**3 - 400*x[0]*x[1]+2*x[0]-2, 200*(x[1] - x[0]**2)])\n",
    "\n",
    "def rosenbrock_hess(x):\n",
    "    return np.array([[1200*x[0]**2 - 400*x[1] + 2, -400*x[0]], [-400*x[0], 200]])"
   ]
  },
  {
   "cell_type": "code",
   "execution_count": null,
   "metadata": {},
   "outputs": [],
   "source": [
    "x, fx = dogleg_exacto(rosenbrock, rosenbrock_grad, rosenbrock_hess, np.array([0, 0]), 1, 2, 0.25, 10000, 1e-5)"
   ]
  },
  {
   "cell_type": "code",
   "execution_count": 6,
   "metadata": {},
   "outputs": [
    {
     "name": "stdout",
     "output_type": "stream",
     "text": [
      "[1. 1.] 4.3365458897035766e-26\n"
     ]
    }
   ],
   "source": [
    "print(x, fx)"
   ]
  },
  {
   "cell_type": "code",
   "execution_count": 7,
   "metadata": {},
   "outputs": [
    {
     "name": "stderr",
     "output_type": "stream",
     "text": [
      "c:\\Users\\juanm\\OneDrive\\Escritorio\\github\\MN2Proyecto2\\RegionDeConfianza.py:266: RuntimeWarning: invalid value encountered in scalar divide\n",
      "  p_u = - (np.dot(grad, grad) / np.dot(np.dot(grad, hess), grad)) * grad\n"
     ]
    }
   ],
   "source": [
    "x, fx = dogleg_approx(rosenbrock, np.array([0, 0]), 1, 2, 0.25, 10000, 1e-5)"
   ]
  },
  {
   "cell_type": "code",
   "execution_count": 8,
   "metadata": {},
   "outputs": [
    {
     "name": "stdout",
     "output_type": "stream",
     "text": [
      "[0 0] 1\n"
     ]
    }
   ],
   "source": [
    "print(x, fx)"
   ]
  }
 ],
 "metadata": {
  "kernelspec": {
   "display_name": "Python 3",
   "language": "python",
   "name": "python3"
  },
  "language_info": {
   "codemirror_mode": {
    "name": "ipython",
    "version": 3
   },
   "file_extension": ".py",
   "mimetype": "text/x-python",
   "name": "python",
   "nbconvert_exporter": "python",
   "pygments_lexer": "ipython3",
   "version": "3.12.3"
  }
 },
 "nbformat": 4,
 "nbformat_minor": 2
}
